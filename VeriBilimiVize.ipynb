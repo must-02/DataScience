{
 "cells": [
  {
   "cell_type": "markdown",
   "id": "80d28aa3-f212-4d28-b13e-bd6ae8920371",
   "metadata": {},
   "source": [
    "## GEREKLİ KÜTÜPHANELER VE SINIFLARIN İÇERİ AKTARILMASI"
   ]
  },
  {
   "cell_type": "code",
   "execution_count": 47,
   "id": "d9383144-bc5e-449a-a39e-248caa83e9b6",
   "metadata": {},
   "outputs": [],
   "source": [
    "import pandas as pd\n",
    "from sklearn.preprocessing import LabelEncoder\n",
    "from sklearn.preprocessing import StandardScaler\n",
    "from sklearn.model_selection import train_test_split\n",
    "from sklearn.linear_model import LinearRegression\n",
    "from sklearn.metrics import mean_squared_error, r2_score\n",
    "import matplotlib.pyplot as plt"
   ]
  },
  {
   "cell_type": "markdown",
   "id": "3a54ca64-29d0-42e0-b7bd-41489858221a",
   "metadata": {},
   "source": [
    "## VERİ SETİNİ İÇERİ ALMA VE TANIMA"
   ]
  },
  {
   "cell_type": "markdown",
   "id": "b9f1e04c-9500-402e-87c9-b5f7a8ed01c8",
   "metadata": {},
   "source": [
    "Veri setini içeri aldıktan sonra hem kontrol amaçlı hem de veri setine göz atmak için `head()` metotunu kullanırız. Veri setindeki özellikleri detaylıca incelemeden önce veri setimizi tanıyalım ve amacımızı belirleyelim. Veri setimiz *denizkulağı* olarak bilinen canlının **Cinsiyet**, **Uzunluk**, **Çap**, **Boy**, **Toplam Ağırlık**, **Kabuksuz Ağırlık**, **İç Organlar Ağırlığı**, **Kabuk Ağırlığı**, **Halka Sayısı** özelliklerini içerir. Amacımız diğer 8 özelliğe bakarak **Halka Sayısı** özelliğini tahmin etmektir."
   ]
  },
  {
   "cell_type": "code",
   "execution_count": 48,
   "id": "73762c91-4c97-4d91-bf82-54e6649d2e6c",
   "metadata": {},
   "outputs": [
    {
     "data": {
      "text/html": [
       "<div>\n",
       "<style scoped>\n",
       "    .dataframe tbody tr th:only-of-type {\n",
       "        vertical-align: middle;\n",
       "    }\n",
       "\n",
       "    .dataframe tbody tr th {\n",
       "        vertical-align: top;\n",
       "    }\n",
       "\n",
       "    .dataframe thead th {\n",
       "        text-align: right;\n",
       "    }\n",
       "</style>\n",
       "<table border=\"1\" class=\"dataframe\">\n",
       "  <thead>\n",
       "    <tr style=\"text-align: right;\">\n",
       "      <th></th>\n",
       "      <th>Sex</th>\n",
       "      <th>Length</th>\n",
       "      <th>Diameter</th>\n",
       "      <th>Height</th>\n",
       "      <th>Whole_weight</th>\n",
       "      <th>Shucked_weight</th>\n",
       "      <th>Viscera_weight</th>\n",
       "      <th>Shell_weight</th>\n",
       "      <th>Rings</th>\n",
       "    </tr>\n",
       "  </thead>\n",
       "  <tbody>\n",
       "    <tr>\n",
       "      <th>0</th>\n",
       "      <td>M</td>\n",
       "      <td>0.455</td>\n",
       "      <td>0.365</td>\n",
       "      <td>0.095</td>\n",
       "      <td>0.5140</td>\n",
       "      <td>0.2245</td>\n",
       "      <td>0.1010</td>\n",
       "      <td>0.150</td>\n",
       "      <td>15</td>\n",
       "    </tr>\n",
       "    <tr>\n",
       "      <th>1</th>\n",
       "      <td>M</td>\n",
       "      <td>0.350</td>\n",
       "      <td>0.265</td>\n",
       "      <td>0.090</td>\n",
       "      <td>0.2255</td>\n",
       "      <td>0.0995</td>\n",
       "      <td>0.0485</td>\n",
       "      <td>0.070</td>\n",
       "      <td>7</td>\n",
       "    </tr>\n",
       "    <tr>\n",
       "      <th>2</th>\n",
       "      <td>F</td>\n",
       "      <td>0.530</td>\n",
       "      <td>0.420</td>\n",
       "      <td>0.135</td>\n",
       "      <td>0.6770</td>\n",
       "      <td>0.2565</td>\n",
       "      <td>0.1415</td>\n",
       "      <td>0.210</td>\n",
       "      <td>9</td>\n",
       "    </tr>\n",
       "    <tr>\n",
       "      <th>3</th>\n",
       "      <td>M</td>\n",
       "      <td>0.440</td>\n",
       "      <td>0.365</td>\n",
       "      <td>0.125</td>\n",
       "      <td>0.5160</td>\n",
       "      <td>0.2155</td>\n",
       "      <td>0.1140</td>\n",
       "      <td>0.155</td>\n",
       "      <td>10</td>\n",
       "    </tr>\n",
       "    <tr>\n",
       "      <th>4</th>\n",
       "      <td>I</td>\n",
       "      <td>0.330</td>\n",
       "      <td>0.255</td>\n",
       "      <td>0.080</td>\n",
       "      <td>0.2050</td>\n",
       "      <td>0.0895</td>\n",
       "      <td>0.0395</td>\n",
       "      <td>0.055</td>\n",
       "      <td>7</td>\n",
       "    </tr>\n",
       "  </tbody>\n",
       "</table>\n",
       "</div>"
      ],
      "text/plain": [
       "  Sex  Length  Diameter  Height  Whole_weight  Shucked_weight  Viscera_weight  \\\n",
       "0   M   0.455     0.365   0.095        0.5140          0.2245          0.1010   \n",
       "1   M   0.350     0.265   0.090        0.2255          0.0995          0.0485   \n",
       "2   F   0.530     0.420   0.135        0.6770          0.2565          0.1415   \n",
       "3   M   0.440     0.365   0.125        0.5160          0.2155          0.1140   \n",
       "4   I   0.330     0.255   0.080        0.2050          0.0895          0.0395   \n",
       "\n",
       "   Shell_weight  Rings  \n",
       "0         0.150     15  \n",
       "1         0.070      7  \n",
       "2         0.210      9  \n",
       "3         0.155     10  \n",
       "4         0.055      7  "
      ]
     },
     "execution_count": 48,
     "metadata": {},
     "output_type": "execute_result"
    }
   ],
   "source": [
    "data = pd.read_csv('abalone - Kopya.csv',\n",
    "                   names=['Sex', 'Length', 'Diameter', 'Height',\n",
    "                         'Whole_weight', 'Shucked_weight', 'Viscera_weight', 'Shell_weight', 'Rings'])\n",
    "data.head()"
   ]
  },
  {
   "cell_type": "markdown",
   "id": "c650d447-b80d-4c48-ac26-3a62ede5ad7c",
   "metadata": {},
   "source": [
    "`info()` metotu kullanılarak özelliklerimizin veri tipini, ne kadar kayıta sahip olduğumuzu ve bellek kullanımını görüntüleriz."
   ]
  },
  {
   "cell_type": "code",
   "execution_count": 49,
   "id": "b6d2a3c1-5792-4f4c-bbb9-fb9d9dd36868",
   "metadata": {},
   "outputs": [
    {
     "name": "stdout",
     "output_type": "stream",
     "text": [
      "<class 'pandas.core.frame.DataFrame'>\n",
      "RangeIndex: 4177 entries, 0 to 4176\n",
      "Data columns (total 9 columns):\n",
      " #   Column          Non-Null Count  Dtype  \n",
      "---  ------          --------------  -----  \n",
      " 0   Sex             4177 non-null   object \n",
      " 1   Length          4177 non-null   float64\n",
      " 2   Diameter        4177 non-null   float64\n",
      " 3   Height          4177 non-null   float64\n",
      " 4   Whole_weight    4177 non-null   float64\n",
      " 5   Shucked_weight  4177 non-null   float64\n",
      " 6   Viscera_weight  4177 non-null   float64\n",
      " 7   Shell_weight    4177 non-null   float64\n",
      " 8   Rings           4177 non-null   int64  \n",
      "dtypes: float64(7), int64(1), object(1)\n",
      "memory usage: 293.8+ KB\n"
     ]
    }
   ],
   "source": [
    "data.info()"
   ]
  },
  {
   "cell_type": "markdown",
   "id": "cbd6ca63-866e-4e4c-ba04-5e2efeac29ee",
   "metadata": {},
   "source": [
    "`isna()` ve `sum()` metotları kullanılarak her özellikte ne kadar `NULL` değer olduğu sayısı elde edilir."
   ]
  },
  {
   "cell_type": "code",
   "execution_count": 50,
   "id": "2a0dbc6e-993d-4daa-80a2-430d48605a1e",
   "metadata": {},
   "outputs": [
    {
     "data": {
      "text/plain": [
       "Sex               0\n",
       "Length            0\n",
       "Diameter          0\n",
       "Height            0\n",
       "Whole_weight      0\n",
       "Shucked_weight    0\n",
       "Viscera_weight    0\n",
       "Shell_weight      0\n",
       "Rings             0\n",
       "dtype: int64"
      ]
     },
     "execution_count": 50,
     "metadata": {},
     "output_type": "execute_result"
    }
   ],
   "source": [
    "data.isna().sum()"
   ]
  },
  {
   "cell_type": "markdown",
   "id": "fff0d75e-432d-44d1-9173-665a8481cd09",
   "metadata": {},
   "source": [
    "`describe()` metotu kullanılarak kategorik bir veri olan **Cinsiyet** hariç tüm özelliklere ait *sayım*, *aritmetik ortalama*, *minimum*, *maksimum* değerler gibi istatistiksel veriler elde edilir."
   ]
  },
  {
   "cell_type": "code",
   "execution_count": 51,
   "id": "e7167ef9-1eae-49f7-b0f1-aae6062a7928",
   "metadata": {},
   "outputs": [
    {
     "data": {
      "text/html": [
       "<div>\n",
       "<style scoped>\n",
       "    .dataframe tbody tr th:only-of-type {\n",
       "        vertical-align: middle;\n",
       "    }\n",
       "\n",
       "    .dataframe tbody tr th {\n",
       "        vertical-align: top;\n",
       "    }\n",
       "\n",
       "    .dataframe thead th {\n",
       "        text-align: right;\n",
       "    }\n",
       "</style>\n",
       "<table border=\"1\" class=\"dataframe\">\n",
       "  <thead>\n",
       "    <tr style=\"text-align: right;\">\n",
       "      <th></th>\n",
       "      <th>Length</th>\n",
       "      <th>Diameter</th>\n",
       "      <th>Height</th>\n",
       "      <th>Whole_weight</th>\n",
       "      <th>Shucked_weight</th>\n",
       "      <th>Viscera_weight</th>\n",
       "      <th>Shell_weight</th>\n",
       "      <th>Rings</th>\n",
       "    </tr>\n",
       "  </thead>\n",
       "  <tbody>\n",
       "    <tr>\n",
       "      <th>count</th>\n",
       "      <td>4177.000000</td>\n",
       "      <td>4177.000000</td>\n",
       "      <td>4177.000000</td>\n",
       "      <td>4177.000000</td>\n",
       "      <td>4177.000000</td>\n",
       "      <td>4177.000000</td>\n",
       "      <td>4177.000000</td>\n",
       "      <td>4177.000000</td>\n",
       "    </tr>\n",
       "    <tr>\n",
       "      <th>mean</th>\n",
       "      <td>0.523992</td>\n",
       "      <td>0.407881</td>\n",
       "      <td>0.139516</td>\n",
       "      <td>0.828742</td>\n",
       "      <td>0.359367</td>\n",
       "      <td>0.180594</td>\n",
       "      <td>0.238831</td>\n",
       "      <td>9.933684</td>\n",
       "    </tr>\n",
       "    <tr>\n",
       "      <th>std</th>\n",
       "      <td>0.120093</td>\n",
       "      <td>0.099240</td>\n",
       "      <td>0.041827</td>\n",
       "      <td>0.490389</td>\n",
       "      <td>0.221963</td>\n",
       "      <td>0.109614</td>\n",
       "      <td>0.139203</td>\n",
       "      <td>3.224169</td>\n",
       "    </tr>\n",
       "    <tr>\n",
       "      <th>min</th>\n",
       "      <td>0.075000</td>\n",
       "      <td>0.055000</td>\n",
       "      <td>0.000000</td>\n",
       "      <td>0.002000</td>\n",
       "      <td>0.001000</td>\n",
       "      <td>0.000500</td>\n",
       "      <td>0.001500</td>\n",
       "      <td>1.000000</td>\n",
       "    </tr>\n",
       "    <tr>\n",
       "      <th>25%</th>\n",
       "      <td>0.450000</td>\n",
       "      <td>0.350000</td>\n",
       "      <td>0.115000</td>\n",
       "      <td>0.441500</td>\n",
       "      <td>0.186000</td>\n",
       "      <td>0.093500</td>\n",
       "      <td>0.130000</td>\n",
       "      <td>8.000000</td>\n",
       "    </tr>\n",
       "    <tr>\n",
       "      <th>50%</th>\n",
       "      <td>0.545000</td>\n",
       "      <td>0.425000</td>\n",
       "      <td>0.140000</td>\n",
       "      <td>0.799500</td>\n",
       "      <td>0.336000</td>\n",
       "      <td>0.171000</td>\n",
       "      <td>0.234000</td>\n",
       "      <td>9.000000</td>\n",
       "    </tr>\n",
       "    <tr>\n",
       "      <th>75%</th>\n",
       "      <td>0.615000</td>\n",
       "      <td>0.480000</td>\n",
       "      <td>0.165000</td>\n",
       "      <td>1.153000</td>\n",
       "      <td>0.502000</td>\n",
       "      <td>0.253000</td>\n",
       "      <td>0.329000</td>\n",
       "      <td>11.000000</td>\n",
       "    </tr>\n",
       "    <tr>\n",
       "      <th>max</th>\n",
       "      <td>0.815000</td>\n",
       "      <td>0.650000</td>\n",
       "      <td>1.130000</td>\n",
       "      <td>2.825500</td>\n",
       "      <td>1.488000</td>\n",
       "      <td>0.760000</td>\n",
       "      <td>1.005000</td>\n",
       "      <td>29.000000</td>\n",
       "    </tr>\n",
       "  </tbody>\n",
       "</table>\n",
       "</div>"
      ],
      "text/plain": [
       "            Length     Diameter       Height  Whole_weight  Shucked_weight  \\\n",
       "count  4177.000000  4177.000000  4177.000000   4177.000000     4177.000000   \n",
       "mean      0.523992     0.407881     0.139516      0.828742        0.359367   \n",
       "std       0.120093     0.099240     0.041827      0.490389        0.221963   \n",
       "min       0.075000     0.055000     0.000000      0.002000        0.001000   \n",
       "25%       0.450000     0.350000     0.115000      0.441500        0.186000   \n",
       "50%       0.545000     0.425000     0.140000      0.799500        0.336000   \n",
       "75%       0.615000     0.480000     0.165000      1.153000        0.502000   \n",
       "max       0.815000     0.650000     1.130000      2.825500        1.488000   \n",
       "\n",
       "       Viscera_weight  Shell_weight        Rings  \n",
       "count     4177.000000   4177.000000  4177.000000  \n",
       "mean         0.180594      0.238831     9.933684  \n",
       "std          0.109614      0.139203     3.224169  \n",
       "min          0.000500      0.001500     1.000000  \n",
       "25%          0.093500      0.130000     8.000000  \n",
       "50%          0.171000      0.234000     9.000000  \n",
       "75%          0.253000      0.329000    11.000000  \n",
       "max          0.760000      1.005000    29.000000  "
      ]
     },
     "execution_count": 51,
     "metadata": {},
     "output_type": "execute_result"
    }
   ],
   "source": [
    "data.describe()"
   ]
  },
  {
   "cell_type": "markdown",
   "id": "8d69606a-fea5-45d4-bffb-f3d79f906094",
   "metadata": {},
   "source": [
    "## VERİ SETİNDE BAĞIMLI VE BAĞIMSIZ DEĞİŞKENLERİN BÖLÜNMESİ"
   ]
  },
  {
   "cell_type": "markdown",
   "id": "6ad9cad7-22b3-46af-b770-318fb10c06c3",
   "metadata": {},
   "source": [
    "Bağımlı ve bağımsız değişkenler bölünür. Tahmin edeceğimiz özellik **Rings** özelliğidir ve bu özelliğimiz fiziksel özellikler olan diğer özelliklere bağımlıdır."
   ]
  },
  {
   "cell_type": "code",
   "execution_count": 52,
   "id": "1b212611-5f86-4d27-a44d-ddc24a77a33a",
   "metadata": {},
   "outputs": [],
   "source": [
    "X = data.drop(columns=['Rings'])\n",
    "y = data['Rings']"
   ]
  },
  {
   "cell_type": "markdown",
   "id": "4d61ab2e-5369-452d-831c-b080f5f00a82",
   "metadata": {},
   "source": [
    "## KATEGORİK DEĞİŞKENİN DÖNÜŞTÜRÜLMESİ"
   ]
  },
  {
   "cell_type": "markdown",
   "id": "aec44977-6e2e-4bbb-bdab-8efbe20243c9",
   "metadata": {},
   "source": [
    "Kategorik veriler modellerimiz tarafından işlenemez bu yüzden bunları modellerimiz için kullanılabilir hale getirmeliyiz. `LabelEncoder()` sınıfından `fit_transform()` metotunu kullanarak tek bir sütun olarak *encoding* işlemini gerçekleştiririz."
   ]
  },
  {
   "cell_type": "code",
   "execution_count": 53,
   "id": "76ca3893-8840-4be9-a8d7-727ed0248a0e",
   "metadata": {},
   "outputs": [],
   "source": [
    "le = LabelEncoder()\n",
    "X['Sex'] = le.fit_transform(X['Sex'])"
   ]
  },
  {
   "cell_type": "markdown",
   "id": "2c97113c-d3f0-4712-a099-36b368fda45c",
   "metadata": {},
   "source": [
    "## EĞİTİM VE TEST VERİ SETLERİNİN OLUŞTURULMASI VE MODELİN EĞİTİLMESİ"
   ]
  },
  {
   "cell_type": "markdown",
   "id": "33dc5ed6-2cfd-45e4-ba80-209a18007661",
   "metadata": {},
   "source": [
    "Lineer regresyon modelinde hiperparametre bulunmadığı için ve basit, hızlı olduğundan veri setini `train_test_split()` metotunu kullanarak %80 eğitim - %20 test olarak ayırırız."
   ]
  },
  {
   "cell_type": "code",
   "execution_count": 54,
   "id": "2d3f4446-2633-4fe0-af9e-e188dcbb9882",
   "metadata": {},
   "outputs": [],
   "source": [
    "X_train, X_test, y_train, y_test = train_test_split(X, y, test_size=0.2, random_state=42)\n",
    "\n",
    "# Burada değerlerin standardizasyonu gerçekleştirilmiştir.\n",
    "scaler = StandardScaler()\n",
    "\n",
    "X_train_scaled = scaler.fit_transform(X_train)\n",
    "X_test_scaled = scaler.transform(X_test)\n",
    "\n",
    "lr_model = LinearRegression()\n",
    "lr_model.fit(X_train, y_train)\n",
    "\n",
    "y_pred = lr_model.predict(X_test)"
   ]
  },
  {
   "cell_type": "markdown",
   "id": "71deb287-88b7-4e33-a759-c5c5fc7830a9",
   "metadata": {},
   "source": [
    "## MODELİN DEĞERLENDİRİLMESİ"
   ]
  },
  {
   "cell_type": "code",
   "execution_count": 55,
   "id": "6b4c5092-9595-4831-8b65-ac9949a825a9",
   "metadata": {},
   "outputs": [
    {
     "name": "stdout",
     "output_type": "stream",
     "text": [
      "Lineer regresyon için ortalama kare hata sonucu: 5.0625379540952355\n",
      "Lineer regresyon için r-kare sonucu: 0.5323381317508206\n"
     ]
    }
   ],
   "source": [
    "mse = mean_squared_error(y_test, y_pred)\n",
    "print(f'Lineer regresyon için ortalama kare hata sonucu: {mse}')\n",
    "\n",
    "r2 = r2_score(y_test, y_pred)\n",
    "print(f'Lineer regresyon için r-kare sonucu: {r2}')"
   ]
  },
  {
   "cell_type": "markdown",
   "id": "fc81fab3-9d0d-41c4-925f-b8b2cec536ad",
   "metadata": {},
   "source": [
    "## MODELİN GÖRSELLEŞTİRİLMESİ"
   ]
  },
  {
   "cell_type": "code",
   "execution_count": 56,
   "id": "daffab5f-cd26-49be-88af-c9d7dcde8c6c",
   "metadata": {},
   "outputs": [
    {
     "data": {
      "image/png": "[encoded data removed]",
      "text/plain": [
       "<Figure size 640x480 with 1 Axes>"
      ]
     },
     "metadata": {},
     "output_type": "display_data"
    }
   ],
   "source": [
    "plt.scatter(y_test, y_pred, color='blue')\n",
    "plt.plot([y_test.min(), y_test.max()], [y_test.min(), y_test.max()], 'k--', lw=2)\n",
    "plt.xlabel('Gerçek Yaş')\n",
    "plt.ylabel('Tahmin Edilen Yaş')\n",
    "plt.title('Gerçek Yaş vs Tahmini Yaş')\n",
    "plt.grid(True)\n",
    "plt.show()"
   ]
  }
 ],
 "metadata": {
  "kernelspec": {
   "display_name": "Python 3 (ipykernel)",
   "language": "python",
   "name": "python3"
  },
  "language_info": {
   "codemirror_mode": {
    "name": "ipython",
    "version": 3
   },
   "file_extension": ".py",
   "mimetype": "text/x-python",
   "name": "python",
   "nbconvert_exporter": "python",
   "pygments_lexer": "ipython3",
   "version": "3.11.4"
  }
 },
 "nbformat": 4,
 "nbformat_minor": 5
}
