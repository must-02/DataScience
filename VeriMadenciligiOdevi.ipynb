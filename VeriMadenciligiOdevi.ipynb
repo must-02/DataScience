{
 "cells": [
  {
   "cell_type": "markdown",
   "id": "63fc8b78-7964-4daa-99d5-a7674b0a66fb",
   "metadata": {},
   "source": [
    "## GEREKLİ KÜTÜPHANE VE SINIFLARIN İÇERİ AKTARILMASI"
   ]
  },
  {
   "cell_type": "markdown",
   "id": "319b46e2-77d1-4f96-9167-27427fef0506",
   "metadata": {},
   "source": [
    "Kullanılacak olan modeller, veri işleme kütüphaneleri ve metrikler içeri alınmaktadır."
   ]
  },
  {
   "cell_type": "code",
   "execution_count": 29,
   "id": "201d5759-567b-463a-aad4-da223b0519ae",
   "metadata": {},
   "outputs": [],
   "source": [
    "import pandas as pd\n",
    "import numpy as np\n",
    "from sklearn.preprocessing import MinMaxScaler\n",
    "from sklearn.model_selection import train_test_split, GridSearchCV, cross_val_score, StratifiedKFold\n",
    "from sklearn.neighbors import KNeighborsClassifier\n",
    "from sklearn.naive_bayes import GaussianNB\n",
    "from sklearn.neural_network import MLPClassifier\n",
    "from sklearn.svm import SVC\n",
    "from sklearn.metrics import accuracy_score, f1_score, precision_score, recall_score, roc_auc_score"
   ]
  },
  {
   "cell_type": "markdown",
   "id": "3df097a4-91e5-4fd0-af6a-4f01618a8846",
   "metadata": {},
   "source": [
    "## VERİ SETİNİ İÇERİ ALMA VE TANIMA"
   ]
  },
  {
   "cell_type": "markdown",
   "id": "9143ca83-a0f4-414d-af03-58a827556f8e",
   "metadata": {},
   "source": [
    ".csv uzantılı verisetinde ';' noktalama işareti ile değerlerin ayrıldığını gözlemlenir ve veri seti içeri alınır. head() metotu ile hem veri setinin içeri alınması kontrol edilir hem de veri setinde ne gibi satır, sütun ve değerlerin olduğu gözlemlenir"
   ]
  },
  {
   "cell_type": "code",
   "execution_count": 3,
   "id": "2f97a11c-5be9-484a-bca6-6a69c3327bf0",
   "metadata": {},
   "outputs": [
    {
     "data": {
      "text/html": [
       "<div>\n",
       "<style scoped>\n",
       "    .dataframe tbody tr th:only-of-type {\n",
       "        vertical-align: middle;\n",
       "    }\n",
       "\n",
       "    .dataframe tbody tr th {\n",
       "        vertical-align: top;\n",
       "    }\n",
       "\n",
       "    .dataframe thead th {\n",
       "        text-align: right;\n",
       "    }\n",
       "</style>\n",
       "<table border=\"1\" class=\"dataframe\">\n",
       "  <thead>\n",
       "    <tr style=\"text-align: right;\">\n",
       "      <th></th>\n",
       "      <th>Gallstone Status</th>\n",
       "      <th>Age</th>\n",
       "      <th>Gender</th>\n",
       "      <th>Comorbidity</th>\n",
       "      <th>Coronary Artery Disease (CAD)</th>\n",
       "      <th>Hypothyroidism</th>\n",
       "      <th>Hyperlipidemia</th>\n",
       "      <th>Diabetes Mellitus (DM)</th>\n",
       "      <th>Height</th>\n",
       "      <th>Weight</th>\n",
       "      <th>...</th>\n",
       "      <th>High Density Lipoprotein (HDL)</th>\n",
       "      <th>Triglyceride</th>\n",
       "      <th>Aspartat Aminotransferaz (AST)</th>\n",
       "      <th>Alanin Aminotransferaz (ALT)</th>\n",
       "      <th>Alkaline Phosphatase (ALP)</th>\n",
       "      <th>Creatinine</th>\n",
       "      <th>Glomerular Filtration Rate (GFR)</th>\n",
       "      <th>C-Reactive Protein (CRP)</th>\n",
       "      <th>Hemoglobin (HGB)</th>\n",
       "      <th>Vitamin D</th>\n",
       "    </tr>\n",
       "  </thead>\n",
       "  <tbody>\n",
       "    <tr>\n",
       "      <th>0</th>\n",
       "      <td>0</td>\n",
       "      <td>50</td>\n",
       "      <td>0</td>\n",
       "      <td>0</td>\n",
       "      <td>0</td>\n",
       "      <td>0</td>\n",
       "      <td>0</td>\n",
       "      <td>0</td>\n",
       "      <td>185</td>\n",
       "      <td>92,8</td>\n",
       "      <td>...</td>\n",
       "      <td>40</td>\n",
       "      <td>134</td>\n",
       "      <td>20</td>\n",
       "      <td>22</td>\n",
       "      <td>87</td>\n",
       "      <td>0,82</td>\n",
       "      <td>112,47</td>\n",
       "      <td>0</td>\n",
       "      <td>16</td>\n",
       "      <td>33</td>\n",
       "    </tr>\n",
       "    <tr>\n",
       "      <th>1</th>\n",
       "      <td>0</td>\n",
       "      <td>47</td>\n",
       "      <td>0</td>\n",
       "      <td>1</td>\n",
       "      <td>0</td>\n",
       "      <td>0</td>\n",
       "      <td>0</td>\n",
       "      <td>0</td>\n",
       "      <td>176</td>\n",
       "      <td>94,5</td>\n",
       "      <td>...</td>\n",
       "      <td>43</td>\n",
       "      <td>103</td>\n",
       "      <td>14</td>\n",
       "      <td>13</td>\n",
       "      <td>46</td>\n",
       "      <td>0,87</td>\n",
       "      <td>107,1</td>\n",
       "      <td>0</td>\n",
       "      <td>14,4</td>\n",
       "      <td>25</td>\n",
       "    </tr>\n",
       "    <tr>\n",
       "      <th>2</th>\n",
       "      <td>0</td>\n",
       "      <td>61</td>\n",
       "      <td>0</td>\n",
       "      <td>0</td>\n",
       "      <td>0</td>\n",
       "      <td>0</td>\n",
       "      <td>0</td>\n",
       "      <td>0</td>\n",
       "      <td>171</td>\n",
       "      <td>91,1</td>\n",
       "      <td>...</td>\n",
       "      <td>43</td>\n",
       "      <td>69</td>\n",
       "      <td>18</td>\n",
       "      <td>14</td>\n",
       "      <td>66</td>\n",
       "      <td>1,25</td>\n",
       "      <td>65,51</td>\n",
       "      <td>0</td>\n",
       "      <td>16,2</td>\n",
       "      <td>30,2</td>\n",
       "    </tr>\n",
       "    <tr>\n",
       "      <th>3</th>\n",
       "      <td>0</td>\n",
       "      <td>41</td>\n",
       "      <td>0</td>\n",
       "      <td>0</td>\n",
       "      <td>0</td>\n",
       "      <td>0</td>\n",
       "      <td>0</td>\n",
       "      <td>0</td>\n",
       "      <td>168</td>\n",
       "      <td>67,7</td>\n",
       "      <td>...</td>\n",
       "      <td>59</td>\n",
       "      <td>53</td>\n",
       "      <td>20</td>\n",
       "      <td>12</td>\n",
       "      <td>34</td>\n",
       "      <td>1,02</td>\n",
       "      <td>94,1</td>\n",
       "      <td>0</td>\n",
       "      <td>15,4</td>\n",
       "      <td>35,4</td>\n",
       "    </tr>\n",
       "    <tr>\n",
       "      <th>4</th>\n",
       "      <td>0</td>\n",
       "      <td>42</td>\n",
       "      <td>0</td>\n",
       "      <td>0</td>\n",
       "      <td>0</td>\n",
       "      <td>0</td>\n",
       "      <td>0</td>\n",
       "      <td>0</td>\n",
       "      <td>178</td>\n",
       "      <td>89,6</td>\n",
       "      <td>...</td>\n",
       "      <td>30</td>\n",
       "      <td>326</td>\n",
       "      <td>27</td>\n",
       "      <td>54</td>\n",
       "      <td>71</td>\n",
       "      <td>0,82</td>\n",
       "      <td>112,47</td>\n",
       "      <td>0</td>\n",
       "      <td>16,8</td>\n",
       "      <td>40,6</td>\n",
       "    </tr>\n",
       "  </tbody>\n",
       "</table>\n",
       "<p>5 rows × 39 columns</p>\n",
       "</div>"
      ],
      "text/plain": [
       "   Gallstone Status  Age  Gender  Comorbidity  Coronary Artery Disease (CAD)  \\\n",
       "0                 0   50       0            0                              0   \n",
       "1                 0   47       0            1                              0   \n",
       "2                 0   61       0            0                              0   \n",
       "3                 0   41       0            0                              0   \n",
       "4                 0   42       0            0                              0   \n",
       "\n",
       "   Hypothyroidism  Hyperlipidemia  Diabetes Mellitus (DM)  Height Weight  ...  \\\n",
       "0               0               0                       0     185   92,8  ...   \n",
       "1               0               0                       0     176   94,5  ...   \n",
       "2               0               0                       0     171   91,1  ...   \n",
       "3               0               0                       0     168   67,7  ...   \n",
       "4               0               0                       0     178   89,6  ...   \n",
       "\n",
       "  High Density Lipoprotein (HDL) Triglyceride Aspartat Aminotransferaz (AST)  \\\n",
       "0                             40          134                             20   \n",
       "1                             43          103                             14   \n",
       "2                             43           69                             18   \n",
       "3                             59           53                             20   \n",
       "4                             30          326                             27   \n",
       "\n",
       "  Alanin Aminotransferaz (ALT) Alkaline Phosphatase (ALP) Creatinine  \\\n",
       "0                           22                         87       0,82   \n",
       "1                           13                         46       0,87   \n",
       "2                           14                         66       1,25   \n",
       "3                           12                         34       1,02   \n",
       "4                           54                         71       0,82   \n",
       "\n",
       "  Glomerular Filtration Rate (GFR) C-Reactive Protein (CRP)  Hemoglobin (HGB)  \\\n",
       "0                           112,47                        0                16   \n",
       "1                            107,1                        0              14,4   \n",
       "2                            65,51                        0              16,2   \n",
       "3                             94,1                        0              15,4   \n",
       "4                           112,47                        0              16,8   \n",
       "\n",
       "  Vitamin D  \n",
       "0        33  \n",
       "1        25  \n",
       "2      30,2  \n",
       "3      35,4  \n",
       "4      40,6  \n",
       "\n",
       "[5 rows x 39 columns]"
      ]
     },
     "execution_count": 3,
     "metadata": {},
     "output_type": "execute_result"
    }
   ],
   "source": [
    "data = pd.read_csv(\"gallstone_dataset.csv\", sep=';')\n",
    "data.head()"
   ]
  },
  {
   "cell_type": "markdown",
   "id": "1499072f-91c7-400a-91b6-60494461ef87",
   "metadata": {},
   "source": [
    "info() metotu ile sütun veri tipleri, bellek kullanımı gibi veriler gözlemlenir."
   ]
  },
  {
   "cell_type": "code",
   "execution_count": 7,
   "id": "04798a61-026f-4417-a389-f7e615befd7c",
   "metadata": {},
   "outputs": [
    {
     "name": "stdout",
     "output_type": "stream",
     "text": [
      "<class 'pandas.core.frame.DataFrame'>\n",
      "RangeIndex: 319 entries, 0 to 318\n",
      "Data columns (total 39 columns):\n",
      " #   Column                                          Non-Null Count  Dtype \n",
      "---  ------                                          --------------  ----- \n",
      " 0   Gallstone Status                                319 non-null    int64 \n",
      " 1   Age                                             319 non-null    int64 \n",
      " 2   Gender                                          319 non-null    int64 \n",
      " 3   Comorbidity                                     319 non-null    int64 \n",
      " 4   Coronary Artery Disease (CAD)                   319 non-null    int64 \n",
      " 5   Hypothyroidism                                  319 non-null    int64 \n",
      " 6   Hyperlipidemia                                  319 non-null    int64 \n",
      " 7   Diabetes Mellitus (DM)                          319 non-null    int64 \n",
      " 8   Height                                          319 non-null    int64 \n",
      " 9   Weight                                          319 non-null    object\n",
      " 10  Body Mass Index (BMI)                           319 non-null    object\n",
      " 11  Total Body Water (TBW)                          319 non-null    object\n",
      " 12  Extracellular Water (ECW)                       319 non-null    object\n",
      " 13  Intracellular Water (ICW)                       319 non-null    object\n",
      " 14  Extracellular Fluid/Total Body Water (ECF/TBW)  319 non-null    object\n",
      " 15  Total Body Fat Ratio (TBFR) (%)                 319 non-null    object\n",
      " 16  Lean Mass (LM) (%)                              319 non-null    object\n",
      " 17  Body Protein Content (Protein) (%)              319 non-null    object\n",
      " 18  Visceral Fat Rating (VFR)                       319 non-null    int64 \n",
      " 19  Bone Mass (BM)                                  319 non-null    object\n",
      " 20  Muscle Mass (MM)                                319 non-null    object\n",
      " 21  Obesity (%)                                     319 non-null    object\n",
      " 22  Total Fat Content (TFC)                         319 non-null    object\n",
      " 23  Visceral Fat Area (VFA)                         319 non-null    object\n",
      " 24  Visceral Muscle Area (VMA) (Kg)                 319 non-null    object\n",
      " 25  Hepatic Fat Accumulation (HFA)                  319 non-null    int64 \n",
      " 26  Glucose                                         319 non-null    object\n",
      " 27  Total Cholesterol (TC)                          319 non-null    object\n",
      " 28  Low Density Lipoprotein (LDL)                   319 non-null    object\n",
      " 29  High Density Lipoprotein (HDL)                  319 non-null    object\n",
      " 30  Triglyceride                                    319 non-null    object\n",
      " 31  Aspartat Aminotransferaz (AST)                  319 non-null    object\n",
      " 32  Alanin Aminotransferaz (ALT)                    319 non-null    object\n",
      " 33  Alkaline Phosphatase (ALP)                      319 non-null    object\n",
      " 34  Creatinine                                      319 non-null    object\n",
      " 35  Glomerular Filtration Rate (GFR)                319 non-null    object\n",
      " 36  C-Reactive Protein (CRP)                        319 non-null    object\n",
      " 37  Hemoglobin (HGB)                                319 non-null    object\n",
      " 38  Vitamin D                                       319 non-null    object\n",
      "dtypes: int64(11), object(28)\n",
      "memory usage: 97.3+ KB\n"
     ]
    }
   ],
   "source": [
    "data.info()"
   ]
  },
  {
   "cell_type": "markdown",
   "id": "b7e72e84-efe9-4e67-8fb0-8eb4fca7d2b5",
   "metadata": {},
   "source": [
    "isna().num() metotlarını kullanarak her bir sütunda ne kadar null değerin olduğu gözlemlenir."
   ]
  },
  {
   "cell_type": "code",
   "execution_count": 8,
   "id": "5caec339-bf69-43a4-ac00-ca68b63e3e0c",
   "metadata": {},
   "outputs": [
    {
     "data": {
      "text/plain": [
       "Gallstone Status                                  0\n",
       "Age                                               0\n",
       "Gender                                            0\n",
       "Comorbidity                                       0\n",
       "Coronary Artery Disease (CAD)                     0\n",
       "Hypothyroidism                                    0\n",
       "Hyperlipidemia                                    0\n",
       "Diabetes Mellitus (DM)                            0\n",
       "Height                                            0\n",
       "Weight                                            0\n",
       "Body Mass Index (BMI)                             0\n",
       "Total Body Water (TBW)                            0\n",
       "Extracellular Water (ECW)                         0\n",
       "Intracellular Water (ICW)                         0\n",
       "Extracellular Fluid/Total Body Water (ECF/TBW)    0\n",
       "Total Body Fat Ratio (TBFR) (%)                   0\n",
       "Lean Mass (LM) (%)                                0\n",
       "Body Protein Content (Protein) (%)                0\n",
       "Visceral Fat Rating (VFR)                         0\n",
       "Bone Mass (BM)                                    0\n",
       "Muscle Mass (MM)                                  0\n",
       "Obesity (%)                                       0\n",
       "Total Fat Content (TFC)                           0\n",
       "Visceral Fat Area (VFA)                           0\n",
       "Visceral Muscle Area (VMA) (Kg)                   0\n",
       "Hepatic Fat Accumulation (HFA)                    0\n",
       "Glucose                                           0\n",
       "Total Cholesterol (TC)                            0\n",
       "Low Density Lipoprotein (LDL)                     0\n",
       "High Density Lipoprotein (HDL)                    0\n",
       "Triglyceride                                      0\n",
       "Aspartat Aminotransferaz (AST)                    0\n",
       "Alanin Aminotransferaz (ALT)                      0\n",
       "Alkaline Phosphatase (ALP)                        0\n",
       "Creatinine                                        0\n",
       "Glomerular Filtration Rate (GFR)                  0\n",
       "C-Reactive Protein (CRP)                          0\n",
       "Hemoglobin (HGB)                                  0\n",
       "Vitamin D                                         0\n",
       "dtype: int64"
      ]
     },
     "execution_count": 8,
     "metadata": {},
     "output_type": "execute_result"
    }
   ],
   "source": [
    "data.isna().sum()"
   ]
  },
  {
   "cell_type": "markdown",
   "id": "d4781225-44bc-4f52-a8c3-6bf38136e58d",
   "metadata": {},
   "source": [
    "describe() metotu ile sayısal ve nümerik değer tipli sütunlar istatistiksel olarak gözlemlenir."
   ]
  },
  {
   "cell_type": "code",
   "execution_count": 9,
   "id": "8a8af6e8-654b-426c-9481-2813a93dba16",
   "metadata": {},
   "outputs": [
    {
     "data": {
      "text/html": [
       "<div>\n",
       "<style scoped>\n",
       "    .dataframe tbody tr th:only-of-type {\n",
       "        vertical-align: middle;\n",
       "    }\n",
       "\n",
       "    .dataframe tbody tr th {\n",
       "        vertical-align: top;\n",
       "    }\n",
       "\n",
       "    .dataframe thead th {\n",
       "        text-align: right;\n",
       "    }\n",
       "</style>\n",
       "<table border=\"1\" class=\"dataframe\">\n",
       "  <thead>\n",
       "    <tr style=\"text-align: right;\">\n",
       "      <th></th>\n",
       "      <th>Gallstone Status</th>\n",
       "      <th>Age</th>\n",
       "      <th>Gender</th>\n",
       "      <th>Comorbidity</th>\n",
       "      <th>Coronary Artery Disease (CAD)</th>\n",
       "      <th>Hypothyroidism</th>\n",
       "      <th>Hyperlipidemia</th>\n",
       "      <th>Diabetes Mellitus (DM)</th>\n",
       "      <th>Height</th>\n",
       "      <th>Visceral Fat Rating (VFR)</th>\n",
       "      <th>Hepatic Fat Accumulation (HFA)</th>\n",
       "    </tr>\n",
       "  </thead>\n",
       "  <tbody>\n",
       "    <tr>\n",
       "      <th>count</th>\n",
       "      <td>319.000000</td>\n",
       "      <td>319.000000</td>\n",
       "      <td>319.000000</td>\n",
       "      <td>319.000000</td>\n",
       "      <td>319.000000</td>\n",
       "      <td>319.000000</td>\n",
       "      <td>319.000000</td>\n",
       "      <td>319.000000</td>\n",
       "      <td>319.00000</td>\n",
       "      <td>319.000000</td>\n",
       "      <td>319.000000</td>\n",
       "    </tr>\n",
       "    <tr>\n",
       "      <th>mean</th>\n",
       "      <td>0.495298</td>\n",
       "      <td>48.068966</td>\n",
       "      <td>0.492163</td>\n",
       "      <td>0.335423</td>\n",
       "      <td>0.037618</td>\n",
       "      <td>0.028213</td>\n",
       "      <td>0.025078</td>\n",
       "      <td>0.134796</td>\n",
       "      <td>167.15674</td>\n",
       "      <td>9.078370</td>\n",
       "      <td>1.150470</td>\n",
       "    </tr>\n",
       "    <tr>\n",
       "      <th>std</th>\n",
       "      <td>0.500763</td>\n",
       "      <td>12.114558</td>\n",
       "      <td>0.500724</td>\n",
       "      <td>0.517340</td>\n",
       "      <td>0.190568</td>\n",
       "      <td>0.165841</td>\n",
       "      <td>0.156609</td>\n",
       "      <td>0.342042</td>\n",
       "      <td>10.05303</td>\n",
       "      <td>4.332501</td>\n",
       "      <td>1.059217</td>\n",
       "    </tr>\n",
       "    <tr>\n",
       "      <th>min</th>\n",
       "      <td>0.000000</td>\n",
       "      <td>20.000000</td>\n",
       "      <td>0.000000</td>\n",
       "      <td>0.000000</td>\n",
       "      <td>0.000000</td>\n",
       "      <td>0.000000</td>\n",
       "      <td>0.000000</td>\n",
       "      <td>0.000000</td>\n",
       "      <td>145.00000</td>\n",
       "      <td>1.000000</td>\n",
       "      <td>0.000000</td>\n",
       "    </tr>\n",
       "    <tr>\n",
       "      <th>25%</th>\n",
       "      <td>0.000000</td>\n",
       "      <td>38.500000</td>\n",
       "      <td>0.000000</td>\n",
       "      <td>0.000000</td>\n",
       "      <td>0.000000</td>\n",
       "      <td>0.000000</td>\n",
       "      <td>0.000000</td>\n",
       "      <td>0.000000</td>\n",
       "      <td>159.50000</td>\n",
       "      <td>6.000000</td>\n",
       "      <td>0.000000</td>\n",
       "    </tr>\n",
       "    <tr>\n",
       "      <th>50%</th>\n",
       "      <td>0.000000</td>\n",
       "      <td>49.000000</td>\n",
       "      <td>0.000000</td>\n",
       "      <td>0.000000</td>\n",
       "      <td>0.000000</td>\n",
       "      <td>0.000000</td>\n",
       "      <td>0.000000</td>\n",
       "      <td>0.000000</td>\n",
       "      <td>168.00000</td>\n",
       "      <td>9.000000</td>\n",
       "      <td>1.000000</td>\n",
       "    </tr>\n",
       "    <tr>\n",
       "      <th>75%</th>\n",
       "      <td>1.000000</td>\n",
       "      <td>56.000000</td>\n",
       "      <td>1.000000</td>\n",
       "      <td>1.000000</td>\n",
       "      <td>0.000000</td>\n",
       "      <td>0.000000</td>\n",
       "      <td>0.000000</td>\n",
       "      <td>0.000000</td>\n",
       "      <td>175.00000</td>\n",
       "      <td>12.000000</td>\n",
       "      <td>2.000000</td>\n",
       "    </tr>\n",
       "    <tr>\n",
       "      <th>max</th>\n",
       "      <td>1.000000</td>\n",
       "      <td>96.000000</td>\n",
       "      <td>1.000000</td>\n",
       "      <td>3.000000</td>\n",
       "      <td>1.000000</td>\n",
       "      <td>1.000000</td>\n",
       "      <td>1.000000</td>\n",
       "      <td>1.000000</td>\n",
       "      <td>191.00000</td>\n",
       "      <td>31.000000</td>\n",
       "      <td>4.000000</td>\n",
       "    </tr>\n",
       "  </tbody>\n",
       "</table>\n",
       "</div>"
      ],
      "text/plain": [
       "       Gallstone Status         Age      Gender  Comorbidity  \\\n",
       "count        319.000000  319.000000  319.000000   319.000000   \n",
       "mean           0.495298   48.068966    0.492163     0.335423   \n",
       "std            0.500763   12.114558    0.500724     0.517340   \n",
       "min            0.000000   20.000000    0.000000     0.000000   \n",
       "25%            0.000000   38.500000    0.000000     0.000000   \n",
       "50%            0.000000   49.000000    0.000000     0.000000   \n",
       "75%            1.000000   56.000000    1.000000     1.000000   \n",
       "max            1.000000   96.000000    1.000000     3.000000   \n",
       "\n",
       "       Coronary Artery Disease (CAD)  Hypothyroidism  Hyperlipidemia  \\\n",
       "count                     319.000000      319.000000      319.000000   \n",
       "mean                        0.037618        0.028213        0.025078   \n",
       "std                         0.190568        0.165841        0.156609   \n",
       "min                         0.000000        0.000000        0.000000   \n",
       "25%                         0.000000        0.000000        0.000000   \n",
       "50%                         0.000000        0.000000        0.000000   \n",
       "75%                         0.000000        0.000000        0.000000   \n",
       "max                         1.000000        1.000000        1.000000   \n",
       "\n",
       "       Diabetes Mellitus (DM)     Height  Visceral Fat Rating (VFR)  \\\n",
       "count              319.000000  319.00000                 319.000000   \n",
       "mean                 0.134796  167.15674                   9.078370   \n",
       "std                  0.342042   10.05303                   4.332501   \n",
       "min                  0.000000  145.00000                   1.000000   \n",
       "25%                  0.000000  159.50000                   6.000000   \n",
       "50%                  0.000000  168.00000                   9.000000   \n",
       "75%                  0.000000  175.00000                  12.000000   \n",
       "max                  1.000000  191.00000                  31.000000   \n",
       "\n",
       "       Hepatic Fat Accumulation (HFA)  \n",
       "count                      319.000000  \n",
       "mean                         1.150470  \n",
       "std                          1.059217  \n",
       "min                          0.000000  \n",
       "25%                          0.000000  \n",
       "50%                          1.000000  \n",
       "75%                          2.000000  \n",
       "max                          4.000000  "
      ]
     },
     "execution_count": 9,
     "metadata": {},
     "output_type": "execute_result"
    }
   ],
   "source": [
    "data.describe()"
   ]
  },
  {
   "cell_type": "markdown",
   "id": "d31118b7-02d8-447e-b4ed-8e9f10c9e741",
   "metadata": {},
   "source": [
    "## VERİ SETİNDE BAĞIMLI VE BAĞIMSIZ DEĞİŞKENLERİN BÖLÜNMESİ"
   ]
  },
  {
   "cell_type": "markdown",
   "id": "aaba01de-66f1-4424-8127-f9c44ac4e9cd",
   "metadata": {},
   "source": [
    "Veri setinde bağımlı değişken safra kesesi taşının olup olmamasıdır yani 'Gallstone Status' sütunudur. Diğer sütunlar bağımsız değişkendir."
   ]
  },
  {
   "cell_type": "code",
   "execution_count": 14,
   "id": "80453bfd-6b49-45f0-9def-e4b7cc73fb4d",
   "metadata": {},
   "outputs": [],
   "source": [
    "X = data.drop(columns=['Gallstone Status'], axis=1)\n",
    "Y = data['Gallstone Status']"
   ]
  },
  {
   "cell_type": "markdown",
   "id": "1e9c741d-53c1-4c9f-ac9e-e9237f494365",
   "metadata": {},
   "source": [
    "## VERİ ÖN İŞLEME"
   ]
  },
  {
   "cell_type": "markdown",
   "id": "70fbab20-62d4-4835-9fbf-3e095890c901",
   "metadata": {},
   "source": [
    "SVM, KNN ve MLP gibi yöntemler kullanıldığından sürekli veriler ölçeklenmesi gerekir. Bu şekilde bu yöntemlerden daha iyi sonuçlar alınabilir."
   ]
  },
  {
   "cell_type": "code",
   "execution_count": 28,
   "id": "9654b8bf-6624-4040-9f80-45eb5c1c044d",
   "metadata": {},
   "outputs": [],
   "source": [
    "minmaxScaler = MinMaxScaler()\n",
    "X_continous = X.drop(columns=['Gender', 'Comorbidity', 'Coronary Artery Disease (CAD)', 'Hypothyroidism', 'Hyperlipidemia','Diabetes Mellitus (DM)'],\n",
    "                     axis=1)\n",
    "X_binary = X[['Gender', 'Comorbidity', 'Coronary Artery Disease (CAD)', 'Hypothyroidism', 'Hyperlipidemia','Diabetes Mellitus (DM)']]\n",
    "X_continous= X_continous.map(lambda x: pd.to_numeric(str(x).strip().replace(\",\", \".\"), errors='coerce'))\n",
    "X_continous_scaled = minmaxScaler.fit_transform(X_continous)\n",
    "X_final = np.concatenate([X_continous_scaled, X_binary], axis=1)"
   ]
  },
  {
   "cell_type": "markdown",
   "id": "a6142415-7e58-4b8c-a66d-fad592a3a1ed",
   "metadata": {},
   "source": [
    "## EĞİTİM VE TEST VERİ SETLERİNİN OLUŞTURULMASI VE MODELLERİN EĞİTİLMESİ"
   ]
  },
  {
   "cell_type": "markdown",
   "id": "8ce0b879-1246-49e0-bba8-d67aec0cbb2d",
   "metadata": {},
   "source": [
    "Veri seti 30% - 70% olarak test ve eğitim veri setlerine ayrılmıştır. Birden çok modelin oluşturulmasını kolaylaştırmak için 'evaluate_model()' adlı genel bir metot oluşturulmuştur. Bu metota model, o model ait hiperparametreler ve test-eğitim veri setleri verilir. Çıktı olarak verilen modelin en iyi hali ve accuracy ile f1-score sonuçları alınır."
   ]
  },
  {
   "cell_type": "code",
   "execution_count": 30,
   "id": "077f02c9-55f6-4301-8442-98df563c2ca1",
   "metadata": {},
   "outputs": [],
   "source": [
    "X_train, X_test, Y_train, Y_test = train_test_split(X_final, Y, test_size=0.3, random_state=42)\n",
    "\n",
    "def evaluate_model(model, hyperparams, X_train, Y_train):\n",
    "    grid = GridSearchCV(estimator=model,\n",
    "                        param_grid=hyperparams,\n",
    "                        scoring='f1_weighted',\n",
    "                        cv=10,\n",
    "                        n_jobs=-1)\n",
    "    grid.fit(X_train, Y_train)\n",
    "    best_model = grid.best_estimator_\n",
    "\n",
    "    acc = cross_val_score(best_model, X_train, Y_train, cv=10, scoring='accuracy').mean()\n",
    "    f1 = cross_val_score(best_model, X_train, Y_train, cv=10, scoring='f1_weighted').mean()\n",
    "\n",
    "    return acc, f1, best_model"
   ]
  },
  {
   "cell_type": "markdown",
   "id": "6a029164-71ca-4919-803c-6d0f6aaca0bf",
   "metadata": {},
   "source": [
    "### K-NEAREST NEİGHBOR MODELİNİN OLUŞTURULMASI"
   ]
  },
  {
   "cell_type": "markdown",
   "id": "752b5f8a-a6b1-447c-895a-0e491c86d05d",
   "metadata": {},
   "source": [
    "KNN modelinde k değeri kritiktir ve kaç tane en yakın komşuya bakılacğını ifade eder. Ayrıca kullanılan uzaklık formülleri de önemlidir. Bunlar 'knn_hyperparams' adlı değişkende belirtilmiştir ve KNN modelinin sonuçları alınmıştır."
   ]
  },
  {
   "cell_type": "code",
   "execution_count": 32,
   "id": "eba81fe6-422a-4086-9a1d-55544ba56a71",
   "metadata": {},
   "outputs": [
    {
     "name": "stdout",
     "output_type": "stream",
     "text": [
      "Best KNN Accuracy (CV): 0.6415\n",
      "Best KNN F1 Score (CV): 0.6365\n",
      "Best Parameters: {'algorithm': 'auto', 'leaf_size': 30, 'metric': 'chebyshev', 'metric_params': None, 'n_jobs': None, 'n_neighbors': 9, 'p': 2, 'weights': 'distance'}\n"
     ]
    }
   ],
   "source": [
    "knn = KNeighborsClassifier()\n",
    "\n",
    "knn_hyperparams = {\n",
    "    'n_neighbors': [3, 5, 7, 9],\n",
    "    'weights': ['uniform', 'distance'],\n",
    "    'metric': ['euclidean', 'manhattan', 'chebyshev']\n",
    "}\n",
    "\n",
    "knn_acc, knn_f1, knn_best_model = evaluate_model(knn, knn_hyperparams, X_train, Y_train)\n",
    "\n",
    "print(f\"Best KNN Accuracy (CV): {knn_acc:.4f}\")\n",
    "print(f\"Best KNN F1 Score (CV): {knn_f1:.4f}\")\n",
    "print(f\"Best Parameters: {knn_best_model.get_params()}\")"
   ]
  },
  {
   "cell_type": "markdown",
   "id": "db642f4c-cc76-4ee4-821f-d1bc152ac0dd",
   "metadata": {},
   "source": [
    "### NIAVE BAYES MODELİNİN OLUŞTURULMASI"
   ]
  },
  {
   "cell_type": "markdown",
   "id": "bd162d51-c7bb-4594-a73a-1b3ca990fb2a",
   "metadata": {},
   "source": [
    "NB modeli için hiperparametreye gerek yoktur bu yüzden 'nb_hyperparams' adlı değişken boş bir sözlüktür. NB modelininde sonuçları 'evaluate_model()' metotu kullanılarak alınmıştır."
   ]
  },
  {
   "cell_type": "code",
   "execution_count": 33,
   "id": "09ef3cf0-043f-47d1-beeb-1cbdb3eeedd2",
   "metadata": {},
   "outputs": [
    {
     "name": "stdout",
     "output_type": "stream",
     "text": [
      "Best NB Accuracy (CV): 0.5381\n",
      "Best NB F1 Score (CV): 0.4286\n",
      "Best Parameters: {'priors': None, 'var_smoothing': 1e-09}\n"
     ]
    }
   ],
   "source": [
    "nb = GaussianNB()\n",
    "\n",
    "nb_hyperparams = {}\n",
    "\n",
    "nb_acc, nb_f1, nb_best_model = evaluate_model(nb, nb_hyperparams, X_train, Y_train)\n",
    "\n",
    "print(f\"Best NB Accuracy (CV): {nb_acc:.4f}\")\n",
    "print(f\"Best NB F1 Score (CV): {nb_f1:.4f}\")\n",
    "print(f\"Best Parameters: {nb_best_model.get_params()}\")"
   ]
  },
  {
   "cell_type": "markdown",
   "id": "0c895be4-73e7-4187-915c-eb88887c0bba",
   "metadata": {},
   "source": [
    "### MULTILAYER PERCEPTRON MODELİNİN OLUŞTURULMASI"
   ]
  },
  {
   "cell_type": "markdown",
   "id": "3749f90b-3008-4f4a-88b1-12a8402a3862",
   "metadata": {},
   "source": [
    "MLP modelinin hiperparametreleri saklı katman sayıları ve aktivasyon fonksiyonlarıdır. Bunlar 'mlp_hyperparams' adlı değişkende belirtilmiştir ve en iyi sonuçlar yazılmıştır."
   ]
  },
  {
   "cell_type": "code",
   "execution_count": 35,
   "id": "8bf1b6fb-a606-43c5-9927-a6858ef27d3e",
   "metadata": {},
   "outputs": [
    {
     "name": "stdout",
     "output_type": "stream",
     "text": [
      "Best MLP Accuracy (CV): 0.6575\n",
      "Best MLP F1 Score (CV): 0.6447\n",
      "Best Parameters: {'activation': 'tanh', 'alpha': 0.0001, 'batch_size': 'auto', 'beta_1': 0.9, 'beta_2': 0.999, 'early_stopping': False, 'epsilon': 1e-08, 'hidden_layer_sizes': (1000,), 'learning_rate': 'constant', 'learning_rate_init': 0.001, 'max_fun': 15000, 'max_iter': 1000, 'momentum': 0.9, 'n_iter_no_change': 10, 'nesterovs_momentum': True, 'power_t': 0.5, 'random_state': 42, 'shuffle': True, 'solver': 'adam', 'tol': 0.0001, 'validation_fraction': 0.1, 'verbose': False, 'warm_start': False}\n"
     ]
    }
   ],
   "source": [
    "mlp = MLPClassifier(max_iter=1000, random_state=42)\n",
    "\n",
    "mlp_hyperparams = {\n",
    "    'hidden_layer_sizes': [(50,), (100,), (150,), (250,), (500,), (1000,)],\n",
    "    'activation': ['relu', 'tanh'],\n",
    "    'solver': ['adam'],\n",
    "    'alpha': [0.0001, 0.001],\n",
    "    'learning_rate': ['constant', 'adaptive']\n",
    "}\n",
    "\n",
    "mlp_acc, mlp_f1, mlp_best_model = evaluate_model(mlp, mlp_hyperparams, X_train, Y_train)\n",
    "\n",
    "print(f\"Best MLP Accuracy (CV): {mlp_acc:.4f}\")\n",
    "print(f\"Best MLP F1 Score (CV): {mlp_f1:.4f}\")\n",
    "print(f\"Best Parameters: {mlp_best_model.get_params()}\")"
   ]
  },
  {
   "cell_type": "markdown",
   "id": "8fba6dfa-e390-465f-81d1-a2fec513f99a",
   "metadata": {},
   "source": [
    "### SUPPORT VECTOR MACHINE MODELİNİN OLUŞTURULMASI"
   ]
  },
  {
   "cell_type": "markdown",
   "id": "03cfb6fd-1f20-4a9f-aa29-b5a5348cc344",
   "metadata": {},
   "source": [
    "SVM modeli için bir çok kernel fonksiyonundan 'rbf' fonksiyonu seçilmiş ve 'svm_hyperparams' adlı değişkende sabit tutulmuştur. Ayrıca ceza parametresi de çok önemlidir ve sonuçlarda da görüleceği üzere en iyi 'C' değeri 10 bulunmuştur."
   ]
  },
  {
   "cell_type": "code",
   "execution_count": 36,
   "id": "40d7b040-ba7c-488d-ab2d-79f730f29b5c",
   "metadata": {},
   "outputs": [
    {
     "name": "stdout",
     "output_type": "stream",
     "text": [
      "Best SVM Accuracy (CV): 0.7306\n",
      "Best SVM F1 Score (CV): 0.7273\n",
      "Best Parameters: {'C': 10, 'break_ties': False, 'cache_size': 200, 'class_weight': None, 'coef0': 0.0, 'decision_function_shape': 'ovr', 'degree': 2, 'gamma': 'auto', 'kernel': 'rbf', 'max_iter': -1, 'probability': False, 'random_state': None, 'shrinking': True, 'tol': 0.001, 'verbose': False}\n"
     ]
    }
   ],
   "source": [
    "svm = SVC()\n",
    "\n",
    "svm_hyperparams = {\n",
    "    'C': [0.1, 1, 10, 100],\n",
    "    'kernel': ['rbf'],\n",
    "    'gamma': ['scale', 'auto', 0.001, 0.01, 0.1],\n",
    "    'degree': [2, 3, 4],\n",
    "    'coef0': [0.0, 0.1, 0.5]\n",
    "}\n",
    "\n",
    "svm_acc, svm_f1, svm_best_model = evaluate_model(svm, svm_hyperparams, X_train, Y_train)\n",
    "\n",
    "print(f\"Best SVM Accuracy (CV): {svm_acc:.4f}\")\n",
    "print(f\"Best SVM F1 Score (CV): {svm_f1:.4f}\")\n",
    "print(f\"Best Parameters: {svm_best_model.get_params()}\")"
   ]
  },
  {
   "cell_type": "code",
   "execution_count": null,
   "id": "99ba736c-e9dd-4d47-9855-ab644d2004ba",
   "metadata": {},
   "outputs": [],
   "source": []
  }
 ],
 "metadata": {
  "kernelspec": {
   "display_name": "Python 3 (ipykernel)",
   "language": "python",
   "name": "python3"
  },
  "language_info": {
   "codemirror_mode": {
    "name": "ipython",
    "version": 3
   },
   "file_extension": ".py",
   "mimetype": "text/x-python",
   "name": "python",
   "nbconvert_exporter": "python",
   "pygments_lexer": "ipython3",
   "version": "3.11.4"
  }
 },
 "nbformat": 4,
 "nbformat_minor": 5
}
